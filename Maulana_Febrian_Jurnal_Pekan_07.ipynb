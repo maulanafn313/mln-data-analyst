{
  "nbformat": 4,
  "nbformat_minor": 0,
  "metadata": {
    "colab": {
      "provenance": []
    },
    "kernelspec": {
      "name": "python3",
      "display_name": "Python 3"
    },
    "language_info": {
      "name": "python"
    }
  },
  "cells": [
    {
      "cell_type": "markdown",
      "source": [
        "---\n",
        "NIM: `nim`\n",
        "\n",
        "Nama: `nama`\n",
        "\n",
        "Kelas: `D3SI-45-XX`\n",
        "\n",
        "---"
      ],
      "metadata": {
        "id": "dQ89kq8jAeHl"
      }
    },
    {
      "cell_type": "markdown",
      "source": [
        "# Soal Jurnal 1\n",
        "\n",
        "Menggunakan perulangan FOR"
      ],
      "metadata": {
        "id": "jvaQNStS25sC"
      }
    },
    {
      "cell_type": "code",
      "execution_count": 10,
      "metadata": {
        "id": "Rq9jxMZe23eA",
        "colab": {
          "base_uri": "https://localhost:8080/"
        },
        "outputId": "8111252c-b6d2-478d-ef81-c8955914e9f1"
      },
      "outputs": [
        {
          "output_type": "stream",
          "name": "stdout",
          "text": [
            "SELAMAT DATANG DI PROGRAM MIN-MAX-AVERAGE\n",
            "Masukkan jumlah angka yang akan diinputkan : 4\n",
            "masukkan angka ke: -20\n",
            "masukkan angka ke: 60\n",
            "masukkan angka ke: 80\n",
            "masukkan angka ke: 40\n",
            "angka terbesarnya adalah: 80.0\n",
            "angka terkecilnya adalah: -20.0\n",
            "total angkanya adalah: 160.0\n",
            "rata-rata dari angkanya adalah: 40.0\n"
          ]
        }
      ],
      "source": [
        "# tuliskan jawabannya di bawah sini\n",
        "\n",
        "print('SELAMAT DATANG DI PROGRAM MIN-MAX-AVERAGE')\n",
        "jumlah = int(input('Masukkan jumlah angka yang akan diinputkan : '))#masukkan inputan angka yang akan diulang\n",
        "min = 0 #masukkan inisialisasi\n",
        "max = 0\n",
        "total = 0\n",
        "for angka in range(jumlah): #jumlah angka yang akan dilakukan perulangan\n",
        "  angka1= float(input(f\"masukkan angka : \"))#masukkan angka yang akan dieksekusi\n",
        "  total += angka1 #untuk menhitung total angka input\n",
        "  avg = total/jumlah #untuk menghitung rata-rata dari angka yang diinput\n",
        "  if angka1 > max:#menentukan angka terbesar\n",
        "    max  = angka1\n",
        "  if angka1 < min:#menentukan angka terkecil\n",
        "    min = angka1\n",
        "\n",
        "\n",
        "print(f\"angka terbesarnya adalah: {max}\")\n",
        "print(f\"angka terkecilnya adalah: {min}\")\n",
        "print(f\"total angkanya adalah: {total}\")\n",
        "print(f\"rata-rata dari angkanya adalah: {avg}\")\n",
        "\n",
        "\n",
        "\n",
        "\n",
        "\n"
      ]
    },
    {
      "cell_type": "markdown",
      "source": [
        "# Soal Jurnal 2\n",
        "\n",
        "Menggunakan perulangan WHILE"
      ],
      "metadata": {
        "id": "3njp5uJJ4XSS"
      }
    },
    {
      "cell_type": "code",
      "source": [
        "# tuliskan jawabannya di bawah sini\n",
        "\n",
        "print('SELAMAT DATANG DI PROGRAM MIN-MAX-AVERAGE')\n",
        "jumlah = int(input('Masukkan jumlah angka yang akan diinputkan : '))#masukkan inputan angka yang akan diulang\n",
        "min = 0 #masukkan inisialisasi\n",
        "max = 0\n",
        "total = 0\n",
        "angka = 0\n",
        "while angka < jumlah :\n",
        "  angka1= float(input(f\"masukkan angka ke: \"))\n",
        "  total += angka1 #untuk menhitung total angka input\n",
        "  avg = total/jumlah #untuk menghitung rata-rata dari angka yang diinput\n",
        "  if angka1 > max: #menentukan angka terbesar\n",
        "    max  = angka1\n",
        "  if angka1 < min:#menentukan angka terkecil\n",
        "    min = angka1\n",
        "  angka += 1\n",
        "print(f\"angka terbesarnya adalah: {max}\")\n",
        "print(f\"angka terkecilnya adalah: {min}\")\n",
        "print(f\"total angkanya adalah: {total}\")\n",
        "print(f\"rata-rata dari angkanya adalah: {avg}\")\n",
        "\n",
        "\n"
      ],
      "metadata": {
        "id": "ppsujmbx4YuD",
        "colab": {
          "base_uri": "https://localhost:8080/"
        },
        "outputId": "cbd57c97-b155-4f9e-ecdc-430124dae6de"
      },
      "execution_count": 3,
      "outputs": [
        {
          "output_type": "stream",
          "name": "stdout",
          "text": [
            "SELAMAT DATANG DI PROGRAM MIN-MAX-AVERAGE\n",
            "Masukkan jumlah angka yang akan diinputkan : 4\n",
            "masukkan angka ke: 50\n",
            "masukkan angka ke: -20\n",
            "masukkan angka ke: 70.5\n",
            "masukkan angka ke: 30\n",
            "angka terbesarnya adalah: 70.5\n",
            "angka terkecilnya adalah: -20.0\n",
            "total angkanya adalah: 130.5\n",
            "rata-rata dari angkanya adalah: 32.625\n"
          ]
        }
      ]
    },
    {
      "cell_type": "markdown",
      "source": [
        "# Soal Jurnal 3\n",
        "\n",
        "Bilangan Prima"
      ],
      "metadata": {
        "id": "vSYJoWvd4rwF"
      }
    },
    {
      "cell_type": "code",
      "source": [
        "# tuliskan jawabannya di bawah sini\n",
        "\n",
        "x = int(input('Input satu angka bulat: '))#input bilangan\n",
        "\n",
        "angka_prima = True #menyatakan pernyataan benar jika termasuk bilangan prima\n",
        "if((x == 0) or (x == 1)):\n",
        "  angka_prima = False\n",
        "else:\n",
        "  for i in range(2,x):\n",
        "    if ((x % i) == 0):\n",
        "       angka_prima = False\n",
        "       break\n",
        "\n",
        "if(angka_prima):\n",
        "  print(x,'adalah angka prima')\n",
        "else:\n",
        "  print(x,'bukan angka prima')\n",
        "\n",
        "\n",
        "\n"
      ],
      "metadata": {
        "id": "-2N3ATdE4tGr",
        "colab": {
          "base_uri": "https://localhost:8080/"
        },
        "outputId": "c3377e01-70ba-4a50-c5b1-f47513bff25b"
      },
      "execution_count": 26,
      "outputs": [
        {
          "output_type": "stream",
          "name": "stdout",
          "text": [
            "Input satu angka bulat: 13\n",
            "13 adalah angka prima\n"
          ]
        }
      ]
    },
    {
      "cell_type": "markdown",
      "source": [
        "# Soal Jurnal 4"
      ],
      "metadata": {
        "id": "yo3I79cl-wl5"
      }
    },
    {
      "cell_type": "code",
      "source": [
        "# tuliskan jawabannya di bawah sini\n",
        "first = 1 #melakukan inisialisasi\n",
        "for i in range(3): #melakukan perulangan\n",
        "  for j in range(1, 6):\n",
        "    if j >= first:\n",
        "      print(j, end = \" \")\n",
        "    else:\n",
        "      print(\"\", end = \"\")\n",
        "  print()\n",
        "  first = first+1\n",
        "\n",
        "\n",
        "\n",
        "\n"
      ],
      "metadata": {
        "id": "HJTgvPlc-zDi",
        "colab": {
          "base_uri": "https://localhost:8080/"
        },
        "outputId": "c41cab1d-4b35-41f0-8eeb-39e36be3b8ee"
      },
      "execution_count": 8,
      "outputs": [
        {
          "output_type": "stream",
          "name": "stdout",
          "text": [
            "1 2 3 4 5 \n",
            "2 3 4 5 \n",
            "3 4 5 \n"
          ]
        }
      ]
    },
    {
      "cell_type": "markdown",
      "source": [
        "# Soal Jurnal 5"
      ],
      "metadata": {
        "id": "fPBnbrEC_L_1"
      }
    },
    {
      "cell_type": "code",
      "source": [
        "# tuliskan jawabannya di bawah sini\n",
        "n=5 #melakukan inisialisasi\n",
        "for i in range(1, n+1):#melakukan perulangan\n",
        "  for j in range(i):\n",
        "    print(\"*\", end= \"  \")\n",
        "  print()\n",
        "\n",
        "\n",
        "\n",
        "\n"
      ],
      "metadata": {
        "id": "Hk7tzcEv_N2_",
        "colab": {
          "base_uri": "https://localhost:8080/"
        },
        "outputId": "01de7dc8-1a9d-47ad-fea6-9c24ab34b774"
      },
      "execution_count": 9,
      "outputs": [
        {
          "output_type": "stream",
          "name": "stdout",
          "text": [
            "*  \n",
            "*  *  \n",
            "*  *  *  \n",
            "*  *  *  *  \n",
            "*  *  *  *  *  \n"
          ]
        }
      ]
    }
  ]
}