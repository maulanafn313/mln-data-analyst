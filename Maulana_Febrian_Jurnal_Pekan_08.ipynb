{
  "nbformat": 4,
  "nbformat_minor": 0,
  "metadata": {
    "colab": {
      "provenance": []
    },
    "kernelspec": {
      "name": "python3",
      "display_name": "Python 3"
    },
    "language_info": {
      "name": "python"
    }
  },
  "cells": [
    {
      "cell_type": "markdown",
      "source": [
        "---\n",
        "NIM: `607012330048`\n",
        "\n",
        "Nama: `Maulana Febrian Nurhasan`\n",
        "\n",
        "Kelas: `D3SI-47-03`\n",
        "\n",
        "---"
      ],
      "metadata": {
        "id": "I6IvNikvDN1e"
      }
    },
    {
      "cell_type": "markdown",
      "source": [
        "# Soal Jurnal 1"
      ],
      "metadata": {
        "id": "dzprFlUHDUr2"
      }
    },
    {
      "cell_type": "code",
      "source": [
        "# program utama\n",
        "def tampilanMenu ():\n",
        "    print(\"[1] Penjumlahan\")\n",
        "    print(\"[2] Pengurangan\")\n",
        "    print(\"[3] Perkalian\")\n",
        "    print(\"[4] Pembagian\")\n",
        "    print(\"[5] Exit\")\n",
        "\n",
        "def tambah (angka_1, angka_2):\n",
        "    hasilTambah = angka_1 + angka_2\n",
        "    return hasilTambah\n",
        "def kurang (angka_1, angka_2):\n",
        "    hasilKurang = angka_1 - angka_2\n",
        "    return hasilKurang\n",
        "def kali (angka_1, angka_2):\n",
        "    hasilKali = angka_1*angka_2\n",
        "    return hasilKali\n",
        "def bagi (angka_1, angka_2):\n",
        "    hasilBagi = angka_1/angka_2\n",
        "    return hasilBagi\n"
      ],
      "metadata": {
        "id": "KrgENnceDxW7"
      },
      "execution_count": 4,
      "outputs": []
    },
    {
      "cell_type": "code",
      "execution_count": 5,
      "metadata": {
        "colab": {
          "base_uri": "https://localhost:8080/"
        },
        "outputId": "200a4926-9438-407a-f4d6-129837f65f0f",
        "id": "djqrfNxwJF6o"
      },
      "outputs": [
        {
          "output_type": "stream",
          "name": "stdout",
          "text": [
            "[1] Penjumlahan\n",
            "[2] Pengurangan\n",
            "[3] Perkalian\n",
            "[4] Pembagian\n",
            "[5] Exit\n",
            "pilih hasil aritmatika= 1\n",
            "masukkan angka 1=10\n",
            "masukkan angka 2=12\n",
            "10+12=22\n",
            "[1] Penjumlahan\n",
            "[2] Pengurangan\n",
            "[3] Perkalian\n",
            "[4] Pembagian\n",
            "[5] Exit\n",
            "pilih hasil aritmatika= 2\n",
            "masukkan angka 1=30\n",
            "masukkan angka 2=20\n",
            "30-20=10\n",
            "[1] Penjumlahan\n",
            "[2] Pengurangan\n",
            "[3] Perkalian\n",
            "[4] Pembagian\n",
            "[5] Exit\n",
            "pilih hasil aritmatika= 3\n",
            "masukkan angka 1=15\n",
            "masukkan angka 2=20\n",
            "15x20=300\n",
            "[1] Penjumlahan\n",
            "[2] Pengurangan\n",
            "[3] Perkalian\n",
            "[4] Pembagian\n",
            "[5] Exit\n",
            "pilih hasil aritmatika= 4\n",
            "masukkan angka 1=80\n",
            "masukkan angka 2=20\n",
            "80:20=4.0\n",
            "[1] Penjumlahan\n",
            "[2] Pengurangan\n",
            "[3] Perkalian\n",
            "[4] Pembagian\n",
            "[5] Exit\n",
            "pilih hasil aritmatika= 5\n",
            "bye bye\n"
          ]
        }
      ],
      "source": [
        "# tuliskan kumpulan sub-program yang dibutuhkan di sini\n",
        "pilih = \"\"\n",
        "while pilih != \"5\":\n",
        "    tampilanMenu()\n",
        "    pilih = input(\"pilih hasil operasi= \")\n",
        "    if pilih == \"1\":\n",
        "        angka1= int(input(\"masukkan angka 1=\"))\n",
        "        angka2= int(input(\"masukkan angka 2=\"))\n",
        "        print(f\"{angka1}+{angka2}={tambah(angka1, angka2)}\")\n",
        "    elif pilih == \"2\":\n",
        "        angka1= int(input(\"masukkan angka 1=\"))\n",
        "        angka2= int(input(\"masukkan angka 2=\"))\n",
        "        print(f\"{angka1}-{angka2}={kurang(angka1, angka2)}\")\n",
        "    elif pilih == \"3\":\n",
        "        angka1= int(input(\"masukkan angka 1=\"))\n",
        "        angka2= int(input(\"masukkan angka 2=\"))\n",
        "        print(f\"{angka1}x{angka2}={kali(angka1, angka2)}\")\n",
        "    elif pilih == \"4\":\n",
        "        angka1= int(input(\"masukkan angka 1=\"))\n",
        "        angka2= int(input(\"masukkan angka 2=\"))\n",
        "        print(f\"{angka1}:{angka2}={bagi(angka1, angka2)}\")\n",
        "print(\"bye bye\")\n"
      ]
    },
    {
      "cell_type": "markdown",
      "source": [
        "# Soal Jurnal 2"
      ],
      "metadata": {
        "id": "xsYFblI6DZ6p"
      }
    },
    {
      "cell_type": "code",
      "source": [
        "# tuliskan kumpulan sub-program yang dibutuhkan di sini\n",
        "def tanah(luas_tnh, harga_tanah):\n",
        "    hasil = luas_tnh * harga_tanah\n",
        "    return hasil\n",
        "def bangunan(luas_bangunan, harga_bangunan):\n",
        "    hasil = luas_bangunan * harga_bangunan\n",
        "    return hasil\n",
        "\n"
      ],
      "metadata": {
        "id": "XP6jRCx8Db5T"
      },
      "execution_count": 1,
      "outputs": []
    },
    {
      "cell_type": "code",
      "source": [
        "# program utama\n",
        "luas_tnh = int(input(\"Luas tanah= \"))\n",
        "luas_bangunan = int(input(\"Luas bangunan= \"))\n",
        "tipeRumah = input(\"tipe A/B= \")\n",
        "\n",
        "if tipeRumah == \"a\":\n",
        "    harga_tanah = 40000\n",
        "    harga_bangunan = 150000\n",
        "elif tipeRumah == \"b\":\n",
        "    harga_tanah = 50000\n",
        "    harga_bangunan = 200000\n",
        "\n",
        "totalHarga = tanah(luas_tnh, harga_tanah) + bangunan(luas_bangunan, harga_bangunan)\n",
        "print(f\"harga tanah= Rp.{tanah(luas_tnh, harga_tanah)}\")\n",
        "print(f\"harga bangunan= Rp.{bangunan(luas_bangunan, harga_bangunan)}\")\n",
        "print(f\"total harga= Rp.{totalHarga}\")\n",
        "\n"
      ],
      "metadata": {
        "id": "Pvql6e2VD0lc",
        "colab": {
          "base_uri": "https://localhost:8080/"
        },
        "outputId": "03a75a1a-957f-4d3d-abe4-9078b3c5b90e"
      },
      "execution_count": 7,
      "outputs": [
        {
          "output_type": "stream",
          "name": "stdout",
          "text": [
            "Luas tanah= 4\n",
            "Luas bangunan= 3\n",
            "tipe A/B= b\n",
            "harga tanah= Rp.200000\n",
            "harga bangunan= Rp.600000\n",
            "total harga= Rp.800000\n"
          ]
        }
      ]
    }
  ]
}