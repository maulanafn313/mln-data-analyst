{
  "cells": [
    {
      "cell_type": "code",
      "execution_count": 6,
      "metadata": {
        "colab": {
          "base_uri": "https://localhost:8080/"
        },
        "id": "SESF89YSJdSt",
        "outputId": "48915fa6-52d4-406b-eaf1-1e3b0bd596a8"
      },
      "outputs": [
        {
          "name": "stdout",
          "output_type": "stream",
          "text": [
            "selamat datang di program nama buah\n",
            "Nama Buah :ape\n",
            "Nama Buah :why\n",
            "Nama Buah :jui\n",
            "Nama Buah :stop\n",
            "Anda berhasil mekaukan input sebanyak 3 kali\n",
            "Ok, Program selesai\n"
          ]
        }
      ],
      "source": [
        "print(\"selamat datang di program nama buah\")\n",
        "NamaBuah = ''\n",
        "JumlahBuah = 0\n",
        "\n",
        "while NamaBuah != 'stop':\n",
        "      NamaBuah = input('Nama Buah :')\n",
        "      if NamaBuah!= 'stop':\n",
        "        JumlahBuah += 1\n",
        "\n",
        "print(f\"Anda berhasil mekaukan input sebanyak {JumlahBuah} kali\")\n",
        "print('Ok, Program selesai')"
      ]
    },
    {
      "cell_type": "code",
      "execution_count": 7,
      "metadata": {
        "colab": {
          "base_uri": "https://localhost:8080/"
        },
        "id": "x-UBIoCnNuAy",
        "outputId": "2b634275-1327-46db-e9b7-1f765a2f309d"
      },
      "outputs": [
        {
          "name": "stdout",
          "output_type": "stream",
          "text": [
            "Masukkan angka pertama: 2\n",
            "Masukkan angka kedua: 3\n",
            "menu\n",
            "[1] Penjumlahan\n",
            "[2] Pengurangan\n",
            "[3] Perkalian\n",
            "[4] Pembagian\n",
            "[5] Exit\n",
            "Pilihan operasi : 2\n",
            "2 - 3 = -1\n",
            "menu\n",
            "[1] Penjumlahan\n",
            "[2] Pengurangan\n",
            "[3] Perkalian\n",
            "[4] Pembagian\n",
            "[5] Exit\n",
            "Pilihan operasi : 5\n",
            "bye bye\n"
          ]
        }
      ],
      "source": [
        "a1 = int(input(\"Masukkan angka pertama: \"))\n",
        "a2 = int(input(\"Masukkan angka kedua: \"))\n",
        "pilih = 0\n",
        "\n",
        "while pilih != 5:\n",
        "  print('menu')\n",
        "  print('[1] Penjumlahan')\n",
        "  print('[2] Pengurangan')\n",
        "  print('[3] Perkalian')\n",
        "  print('[4] Pembagian')\n",
        "  print('[5] Exit')\n",
        "  pilih = int(input('Pilihan operasi : '))\n",
        "\n",
        "  if pilih == 1:\n",
        "    hasil = a1 + a2\n",
        "    print(a1, '+',a2,'=', hasil)\n",
        "  elif pilih == 2:\n",
        "    hasil = a1 - a2\n",
        "    print(a1, '-', a2, '=', hasil)\n",
        "  elif pilih == 3:\n",
        "    hasil = a1 * a2\n",
        "    print(a1, 'x', a2, '=', hasil)\n",
        "  elif pilih == 4:\n",
        "    hasil = a1 / a2\n",
        "    print(a1, ':', a2, '=', hasil)\n",
        "  elif pilih == 5:\n",
        "    print('bye bye')"
      ]
    },
    {
      "cell_type": "code",
      "execution_count": 4,
      "metadata": {
        "colab": {
          "base_uri": "https://localhost:8080/"
        },
        "id": "nG0fwninNvvW",
        "outputId": "ed3cb85c-874d-49fe-9fb6-9dcaa05f4870"
      },
      "outputs": [
        {
          "name": "stdout",
          "output_type": "stream",
          "text": [
            "selamat datang di program rata - rata\n",
            "masukan jumlah angka yang akan di inputkan : 4\n",
            "masukan angka : 30\n",
            "masukan angka : 60\n",
            "masukan angka : 70\n",
            "masukan angka : 30\n",
            "rata rata dari 4 buah angka tersebut adalah 47.5\n"
          ]
        }
      ],
      "source": [
        "print(\"selamat datang di program rata - rata\")\n",
        "jmlAngka = int(input(\"masukan jumlah angka yang akan di inputkan : \"))\n",
        "\n",
        "sum = 0\n",
        "\n",
        "for i in range(jmlAngka):\n",
        "  angka = int(input(\"masukan angka : \"))\n",
        "  sum += angka\n",
        "\n",
        "avg = sum / jmlAngka\n",
        "print(f\"rata rata dari {jmlAngka} buah angka tersebut adalah {avg}\")"
      ]
    },
    {
      "cell_type": "code",
      "execution_count": 5,
      "metadata": {
        "colab": {
          "base_uri": "https://localhost:8080/"
        },
        "id": "rbZvIqaoRXlg",
        "outputId": "f84f8ebe-9850-43ea-8a4d-3b7194ec21b7"
      },
      "outputs": [
        {
          "name": "stdout",
          "output_type": "stream",
          "text": [
            "masukkan nilai ujian: 20\n",
            "masukkan nilai ujian: 40\n",
            "masukkan nilai ujian: 15\n",
            "masukkan nilai ujian: 20\n",
            "masukkan nilai ujian: 30\n",
            "angka tertinggi 40\n"
          ]
        }
      ],
      "source": [
        "max = 0\n",
        "for i in range (5):\n",
        "    nilai1 = int(input(\"masukkan nilai ujian: \"))\n",
        "    if nilai1 > max:\n",
        "        max = nilai1\n",
        "print (f\"angka tertinggi {max}\")"
      ]
    },
    {
      "cell_type": "code",
      "execution_count": null,
      "metadata": {
        "id": "CvgukmbGRZ9L"
      },
      "outputs": [],
      "source": [
        "a,b = 1,1\n",
        "for i in range (10):\n",
        "   print (\" \", a, end='')\n",
        "   a, b= b, a+b"
      ]
    }
  ],
  "metadata": {
    "colab": {
      "provenance": []
    },
    "kernelspec": {
      "display_name": "Python 3",
      "name": "python3"
    },
    "language_info": {
      "name": "python"
    }
  },
  "nbformat": 4,
  "nbformat_minor": 0
}
