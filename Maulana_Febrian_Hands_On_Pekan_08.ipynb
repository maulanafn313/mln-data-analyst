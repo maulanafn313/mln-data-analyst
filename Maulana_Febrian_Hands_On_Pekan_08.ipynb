{
  "cells": [
    {
      "cell_type": "markdown",
      "metadata": {
        "id": "8W3PTyuvm2tQ"
      },
      "source": [
        "# VSI1A4 Algoritma dan Pemrograman Komputer\n",
        "## Hands On Pekan 08\n",
        "\n",
        "NIM: `14850015`\n",
        "\n",
        "Nama: `Ngatimin van der Woodsen`\n",
        "\n",
        "Kelas: `D3SI-45-XX`"
      ]
    },
    {
      "cell_type": "markdown",
      "metadata": {
        "id": "sMj1EvZjImVy"
      },
      "source": [
        "###Function BeriSalam"
      ]
    },
    {
      "cell_type": "code",
      "execution_count": 1,
      "metadata": {
        "id": "ZB4iZLnW6gVn"
      },
      "outputs": [],
      "source": [
        "# umum      -> sub program\n",
        "# algoritma -> function\n",
        "\n",
        "# konsep store and reuse\n",
        "# store adalah tahap pembuatan sub program kemudian disimpan\n",
        "# reuse adalah tahap pemanggilan sub program\n",
        "\n",
        "# parameter adalah sesuatu yang digunakan pada saat sub program dibuat\n",
        "# argumen adalah sesuatu yang digunakan pada saat sub program dipanggil\n",
        "\n",
        "def BeriSalam():\n",
        "    print(\"Selamat Datang di Program ini\")"
      ]
    },
    {
      "cell_type": "code",
      "execution_count": 2,
      "metadata": {
        "id": "p-vS9d4Ezrms"
      },
      "outputs": [],
      "source": [
        "def BeriSalam(waktu, nama):\n",
        "  print(\"Selamat\",waktu,nama)"
      ]
    },
    {
      "cell_type": "code",
      "execution_count": 3,
      "metadata": {
        "colab": {
          "base_uri": "https://localhost:8080/"
        },
        "id": "h6Pb4hQH0WO5",
        "outputId": "c8c42c51-79ae-44d4-b02d-7c2f86ede1ed"
      },
      "outputs": [
        {
          "name": "stdout",
          "output_type": "stream",
          "text": [
            "Selamat datang\n",
            "Selamat pagi Jono\n",
            "Program Selesai\n"
          ]
        }
      ],
      "source": [
        "print(\"Selamat datang\")\n",
        "BeriSalam('pagi','Jono')\n",
        "print(\"Program Selesai\")"
      ]
    },
    {
      "cell_type": "code",
      "execution_count": 4,
      "metadata": {
        "colab": {
          "base_uri": "https://localhost:8080/"
        },
        "id": "U0KN0sGY0l5l",
        "outputId": "9711d914-85e2-4ba3-cbb5-c96450235005"
      },
      "outputs": [
        {
          "name": "stdout",
          "output_type": "stream",
          "text": [
            "Selamat datang\n",
            "Selamat sore Tomi\n",
            "Program Selesai\n"
          ]
        }
      ],
      "source": [
        "print(\"Selamat datang\")\n",
        "BeriSalam('sore','Tomi')\n",
        "print(\"Program Selesai\")"
      ]
    },
    {
      "cell_type": "code",
      "execution_count": 7,
      "metadata": {
        "colab": {
          "base_uri": "https://localhost:8080/"
        },
        "id": "ffiSHmZn060P",
        "outputId": "3d534d5f-cf22-4285-86bd-ca9c52bb0ba2"
      },
      "outputs": [
        {
          "name": "stdout",
          "output_type": "stream",
          "text": [
            "Selamat datang\n",
            "Selamat malam Ucok\n",
            "Program Selesai\n"
          ]
        }
      ],
      "source": [
        "print(\"Selamat datang\")\n",
        "wkt = 'malam'\n",
        "nm = 'Ucok'\n",
        "BeriSalam(wkt, nm)\n",
        "print(\"Program Selesai\")"
      ]
    },
    {
      "cell_type": "code",
      "execution_count": 8,
      "metadata": {
        "colab": {
          "base_uri": "https://localhost:8080/"
        },
        "id": "Oas0GzKp0rid",
        "outputId": "f0221b71-6698-4a97-acfb-18b5c211e541"
      },
      "outputs": [
        {
          "name": "stdout",
          "output_type": "stream",
          "text": [
            "Selamat datang\n",
            "Selamat pagi Jono\n",
            "Selamat malam Ucok\n",
            "Masukkan waktu:pagi\n",
            "Masukkan nama:Sugiono\n",
            "Selamat pagi Sugiono\n",
            "Program Selesai\n"
          ]
        }
      ],
      "source": [
        "print(\"Selamat datang\")\n",
        "BeriSalam ('pagi','Jono')\n",
        "wkt = 'malam'\n",
        "nm = 'Ucok'\n",
        "BeriSalam(wkt, nm)\n",
        "wkt = input(\"Masukkan waktu:\")\n",
        "nm = input(\"Masukkan nama:\")\n",
        "BeriSalam(wkt,nm)\n",
        "print(\"Program Selesai\")"
      ]
    },
    {
      "cell_type": "code",
      "execution_count": 9,
      "metadata": {
        "colab": {
          "base_uri": "https://localhost:8080/"
        },
        "id": "9HzrAOsH2Nn8",
        "outputId": "5ef153bf-675a-4f61-fed0-b1b1440525e2"
      },
      "outputs": [
        {
          "name": "stdout",
          "output_type": "stream",
          "text": [
            "Selamat datang\n",
            "Selamat Mimin malam\n",
            "Program Selesai\n"
          ]
        }
      ],
      "source": [
        "# contoh salah penyimpanan posisi argumen\n",
        "\n",
        "print(\"Selamat datang\")\n",
        "BeriSalam('Mimin','malam')\n",
        "print(\"Program Selesai\")"
      ]
    },
    {
      "cell_type": "code",
      "execution_count": 10,
      "metadata": {
        "colab": {
          "base_uri": "https://localhost:8080/"
        },
        "id": "yCuH1kBO2cbQ",
        "outputId": "179cd4d6-0525-4585-d9d6-ea30d0775c67"
      },
      "outputs": [
        {
          "name": "stdout",
          "output_type": "stream",
          "text": [
            "Selamat datang\n",
            "Selamat malam Mimin\n",
            "Program Selesai\n"
          ]
        }
      ],
      "source": [
        "# menggunakan keyword supaya tidak tertukar\n",
        "\n",
        "print(\"Selamat datang\")\n",
        "BeriSalam(nama='Mimin', waktu='malam')\n",
        "print(\"Program Selesai\")"
      ]
    },
    {
      "cell_type": "code",
      "execution_count": 11,
      "metadata": {
        "colab": {
          "base_uri": "https://localhost:8080/",
          "height": 254
        },
        "id": "kXdWRC8A6Vs2",
        "outputId": "6a74d8fb-af79-4f6d-807c-d6980d8bd84b"
      },
      "outputs": [
        {
          "name": "stdout",
          "output_type": "stream",
          "text": [
            "Selamat datang\n"
          ]
        },
        {
          "ename": "TypeError",
          "evalue": "ignored",
          "output_type": "error",
          "traceback": [
            "\u001b[0;31m---------------------------------------------------------------------------\u001b[0m",
            "\u001b[0;31mTypeError\u001b[0m                                 Traceback (most recent call last)",
            "\u001b[0;32m<ipython-input-11-00bbfd99668c>\u001b[0m in \u001b[0;36m<cell line: 5>\u001b[0;34m()\u001b[0m\n\u001b[1;32m      3\u001b[0m \u001b[0;34m\u001b[0m\u001b[0m\n\u001b[1;32m      4\u001b[0m \u001b[0mprint\u001b[0m\u001b[0;34m(\u001b[0m\u001b[0;34m\"Selamat datang\"\u001b[0m\u001b[0;34m)\u001b[0m\u001b[0;34m\u001b[0m\u001b[0;34m\u001b[0m\u001b[0m\n\u001b[0;32m----> 5\u001b[0;31m \u001b[0mBeriSalam\u001b[0m\u001b[0;34m(\u001b[0m\u001b[0mnama\u001b[0m\u001b[0;34m=\u001b[0m\u001b[0;34m'Mimin'\u001b[0m\u001b[0;34m)\u001b[0m\u001b[0;34m\u001b[0m\u001b[0;34m\u001b[0m\u001b[0m\n\u001b[0m\u001b[1;32m      6\u001b[0m \u001b[0mprint\u001b[0m\u001b[0;34m(\u001b[0m\u001b[0;34m\"Program Selesai\"\u001b[0m\u001b[0;34m)\u001b[0m\u001b[0;34m\u001b[0m\u001b[0;34m\u001b[0m\u001b[0m\n",
            "\u001b[0;31mTypeError\u001b[0m: BeriSalam() missing 1 required positional argument: 'waktu'"
          ]
        }
      ],
      "source": [
        "# argumennya kurang\n",
        "# pentingnya urutan parameter dan argumen yang digunakan\n",
        "\n",
        "print(\"Selamat datang\")\n",
        "BeriSalam(nama='Mimin')\n",
        "print(\"Program Selesai\")"
      ]
    },
    {
      "cell_type": "code",
      "execution_count": 12,
      "metadata": {
        "colab": {
          "base_uri": "https://localhost:8080/",
          "height": 144
        },
        "id": "vJlqF95c2mAa",
        "outputId": "242b587f-a781-473b-f52d-306b03625d9d"
      },
      "outputs": [
        {
          "ename": "SyntaxError",
          "evalue": "ignored",
          "output_type": "error",
          "traceback": [
            "\u001b[0;36m  File \u001b[0;32m\"<ipython-input-12-96b8ad6c0898>\"\u001b[0;36m, line \u001b[0;32m3\u001b[0m\n\u001b[0;31m    def BeriSalam(waktu='anggap saja siang', nama):\u001b[0m\n\u001b[0m                                             ^\u001b[0m\n\u001b[0;31mSyntaxError\u001b[0m\u001b[0;31m:\u001b[0m non-default argument follows default argument\n"
          ]
        }
      ],
      "source": [
        "# memberi nilai default pada parameter\n",
        "\n",
        "def BeriSalam(waktu='anggap saja siang', nama):\n",
        "  print(\"Selamat\",waktu,nama)"
      ]
    },
    {
      "cell_type": "code",
      "execution_count": 14,
      "metadata": {
        "id": "bUkaY8oJ-Py2"
      },
      "outputs": [],
      "source": [
        "def BeriSalam(nama, waktu='anggap saja siang'):\n",
        "  print(\"Selamat\",waktu,nama)"
      ]
    },
    {
      "cell_type": "code",
      "execution_count": 15,
      "metadata": {
        "colab": {
          "base_uri": "https://localhost:8080/"
        },
        "id": "_3ng1miU-gUE",
        "outputId": "1d891bd3-39a7-44f5-b8fc-53c3c47de959"
      },
      "outputs": [
        {
          "name": "stdout",
          "output_type": "stream",
          "text": [
            "Selamat datang\n",
            "Selamat anggap saja siang Mimin\n",
            "Program Selesai\n"
          ]
        }
      ],
      "source": [
        "print(\"Selamat datang\")\n",
        "BeriSalam(nama='Mimin')\n",
        "print(\"Program Selesai\")"
      ]
    },
    {
      "cell_type": "code",
      "execution_count": 16,
      "metadata": {
        "colab": {
          "base_uri": "https://localhost:8080/"
        },
        "id": "BNPpjqmE9_-a",
        "outputId": "ea6b1f08-beef-4180-b1dd-f5917c81623f"
      },
      "outputs": [
        {
          "name": "stdout",
          "output_type": "stream",
          "text": [
            "Selamat datang\n",
            "Selamat anggap saja siang Mimin\n",
            "Program Selesai\n"
          ]
        }
      ],
      "source": [
        "print(\"Selamat datang\")\n",
        "BeriSalam('Mimin')\n",
        "print(\"Program Selesai\")"
      ]
    },
    {
      "cell_type": "markdown",
      "metadata": {
        "id": "zH_oo_DET5ul"
      },
      "source": [
        "## Function CetakNKali"
      ]
    },
    {
      "cell_type": "code",
      "execution_count": 17,
      "metadata": {
        "id": "FpczPXeK97Ao"
      },
      "outputs": [],
      "source": [
        "# mencetak suatu teks sebanyak n kali\n",
        "\n",
        "def cetakNKali(teks,kali):\n",
        "  for i in range(kali):\n",
        "    print(teks)\n",
        "  print('selesai :)')"
      ]
    },
    {
      "cell_type": "code",
      "execution_count": 18,
      "metadata": {
        "colab": {
          "base_uri": "https://localhost:8080/"
        },
        "id": "vXKBuJdzUQv3",
        "outputId": "d80d3bdf-16d0-41b8-ae0d-b7575062e55e"
      },
      "outputs": [
        {
          "name": "stdout",
          "output_type": "stream",
          "text": [
            "Selamat datang...\n",
            "saya berjanji ngga akan bohong lagi\n",
            "saya berjanji ngga akan bohong lagi\n",
            "saya berjanji ngga akan bohong lagi\n",
            "saya berjanji ngga akan bohong lagi\n",
            "saya berjanji ngga akan bohong lagi\n",
            "saya berjanji ngga akan bohong lagi\n",
            "saya berjanji ngga akan bohong lagi\n",
            "selesai :)\n",
            "program selesai\n"
          ]
        }
      ],
      "source": [
        "print(\"Selamat datang...\")\n",
        "cetakNKali(\"saya berjanji ngga akan bohong lagi\",7)\n",
        "print(\"program selesai\")"
      ]
    },
    {
      "cell_type": "code",
      "execution_count": 19,
      "metadata": {
        "colab": {
          "base_uri": "https://localhost:8080/"
        },
        "id": "0q7n0iymUdpH",
        "outputId": "08577726-eddf-4840-e3b3-f0a24929fa50"
      },
      "outputs": [
        {
          "name": "stdout",
          "output_type": "stream",
          "text": [
            "Selamat datang...\n",
            "saya berjanji akan belajar lebih giat\n",
            "saya berjanji akan belajar lebih giat\n",
            "saya berjanji akan belajar lebih giat\n",
            "selesai :)\n",
            "program selesai\n"
          ]
        }
      ],
      "source": [
        "print(\"Selamat datang...\")\n",
        "cetakNKali(\"saya berjanji akan belajar lebih giat\",3)\n",
        "print(\"program selesai\")"
      ]
    },
    {
      "cell_type": "code",
      "execution_count": 20,
      "metadata": {
        "colab": {
          "base_uri": "https://localhost:8080/"
        },
        "id": "ypMRKfoQUrfE",
        "outputId": "790c761f-cc62-43c6-9932-b89257e91429"
      },
      "outputs": [
        {
          "name": "stdout",
          "output_type": "stream",
          "text": [
            "Selamat datang...\n",
            "saya berjanji ngga akan bohong lagi\n",
            "saya berjanji ngga akan bohong lagi\n",
            "saya berjanji ngga akan bohong lagi\n",
            "saya berjanji ngga akan bohong lagi\n",
            "saya berjanji ngga akan bohong lagi\n",
            "saya berjanji ngga akan bohong lagi\n",
            "saya berjanji ngga akan bohong lagi\n",
            "selesai :)\n",
            "saya berjanji akan belajar lebih giat\n",
            "saya berjanji akan belajar lebih giat\n",
            "saya berjanji akan belajar lebih giat\n",
            "selesai :)\n",
            "program selesai\n"
          ]
        }
      ],
      "source": [
        "print(\"Selamat datang...\")\n",
        "cetakNKali(\"saya berjanji ngga akan bohong lagi\",7)\n",
        "cetakNKali(\"saya berjanji akan belajar lebih giat\",3)\n",
        "print(\"program selesai\")"
      ]
    },
    {
      "cell_type": "code",
      "execution_count": 21,
      "metadata": {
        "colab": {
          "base_uri": "https://localhost:8080/",
          "height": 381
        },
        "id": "zhr8AbsBU0D3",
        "outputId": "8174f377-b659-408e-b41a-ab02cbe4424f"
      },
      "outputs": [
        {
          "name": "stdout",
          "output_type": "stream",
          "text": [
            "Selamat datang...\n"
          ]
        },
        {
          "ename": "TypeError",
          "evalue": "ignored",
          "output_type": "error",
          "traceback": [
            "\u001b[0;31m---------------------------------------------------------------------------\u001b[0m",
            "\u001b[0;31mTypeError\u001b[0m                                 Traceback (most recent call last)",
            "\u001b[0;32m<ipython-input-21-ae222cad57f9>\u001b[0m in \u001b[0;36m<cell line: 4>\u001b[0;34m()\u001b[0m\n\u001b[1;32m      2\u001b[0m \u001b[0;34m\u001b[0m\u001b[0m\n\u001b[1;32m      3\u001b[0m \u001b[0mprint\u001b[0m\u001b[0;34m(\u001b[0m\u001b[0;34m\"Selamat datang...\"\u001b[0m\u001b[0;34m)\u001b[0m\u001b[0;34m\u001b[0m\u001b[0;34m\u001b[0m\u001b[0m\n\u001b[0;32m----> 4\u001b[0;31m \u001b[0mcetakNKali\u001b[0m\u001b[0;34m(\u001b[0m\u001b[0;36m5\u001b[0m\u001b[0;34m,\u001b[0m\u001b[0;34m\"Alpro itu mudah kalo rajin dan sabar\"\u001b[0m\u001b[0;34m)\u001b[0m\u001b[0;34m\u001b[0m\u001b[0;34m\u001b[0m\u001b[0m\n\u001b[0m\u001b[1;32m      5\u001b[0m \u001b[0mprint\u001b[0m\u001b[0;34m(\u001b[0m\u001b[0;34m\"program selesai\"\u001b[0m\u001b[0;34m)\u001b[0m\u001b[0;34m\u001b[0m\u001b[0;34m\u001b[0m\u001b[0m\n",
            "\u001b[0;32m<ipython-input-17-9e6494ba35cc>\u001b[0m in \u001b[0;36mcetakNKali\u001b[0;34m(teks, kali)\u001b[0m\n\u001b[1;32m      2\u001b[0m \u001b[0;34m\u001b[0m\u001b[0m\n\u001b[1;32m      3\u001b[0m \u001b[0;32mdef\u001b[0m \u001b[0mcetakNKali\u001b[0m\u001b[0;34m(\u001b[0m\u001b[0mteks\u001b[0m\u001b[0;34m,\u001b[0m\u001b[0mkali\u001b[0m\u001b[0;34m)\u001b[0m\u001b[0;34m:\u001b[0m\u001b[0;34m\u001b[0m\u001b[0;34m\u001b[0m\u001b[0m\n\u001b[0;32m----> 4\u001b[0;31m   \u001b[0;32mfor\u001b[0m \u001b[0mi\u001b[0m \u001b[0;32min\u001b[0m \u001b[0mrange\u001b[0m\u001b[0;34m(\u001b[0m\u001b[0mkali\u001b[0m\u001b[0;34m)\u001b[0m\u001b[0;34m:\u001b[0m\u001b[0;34m\u001b[0m\u001b[0;34m\u001b[0m\u001b[0m\n\u001b[0m\u001b[1;32m      5\u001b[0m     \u001b[0mprint\u001b[0m\u001b[0;34m(\u001b[0m\u001b[0mteks\u001b[0m\u001b[0;34m)\u001b[0m\u001b[0;34m\u001b[0m\u001b[0;34m\u001b[0m\u001b[0m\n\u001b[1;32m      6\u001b[0m   \u001b[0mprint\u001b[0m\u001b[0;34m(\u001b[0m\u001b[0;34m'selesai :)'\u001b[0m\u001b[0;34m)\u001b[0m\u001b[0;34m\u001b[0m\u001b[0;34m\u001b[0m\u001b[0m\n",
            "\u001b[0;31mTypeError\u001b[0m: 'str' object cannot be interpreted as an integer"
          ]
        }
      ],
      "source": [
        "# contoh ketika argumennya terbalik\n",
        "\n",
        "print(\"Selamat datang...\")\n",
        "cetakNKali(5,\"Alpro itu mudah kalo rajin dan sabar\")\n",
        "print(\"program selesai\")"
      ]
    },
    {
      "cell_type": "code",
      "execution_count": 22,
      "metadata": {
        "colab": {
          "base_uri": "https://localhost:8080/"
        },
        "id": "1Tj1HCcUVAgo",
        "outputId": "e509b933-53ba-46a0-dbda-99731c97a02f"
      },
      "outputs": [
        {
          "name": "stdout",
          "output_type": "stream",
          "text": [
            "Selamat datang...\n",
            "Alpro itu mudah kalo rajin dan sabar\n",
            "Alpro itu mudah kalo rajin dan sabar\n",
            "Alpro itu mudah kalo rajin dan sabar\n",
            "Alpro itu mudah kalo rajin dan sabar\n",
            "Alpro itu mudah kalo rajin dan sabar\n",
            "selesai :)\n",
            "program selesai\n"
          ]
        }
      ],
      "source": [
        "print(\"Selamat datang...\")\n",
        "cetakNKali(kali=5, teks=\"Alpro itu mudah kalo rajin dan sabar\")\n",
        "print(\"program selesai\")"
      ]
    },
    {
      "cell_type": "code",
      "execution_count": 23,
      "metadata": {
        "colab": {
          "base_uri": "https://localhost:8080/",
          "height": 254
        },
        "id": "R3gFM-WkVK47",
        "outputId": "129d9d1a-f80f-4273-dc64-05cc5dd6f711"
      },
      "outputs": [
        {
          "name": "stdout",
          "output_type": "stream",
          "text": [
            "Selamat datang...\n"
          ]
        },
        {
          "ename": "TypeError",
          "evalue": "ignored",
          "output_type": "error",
          "traceback": [
            "\u001b[0;31m---------------------------------------------------------------------------\u001b[0m",
            "\u001b[0;31mTypeError\u001b[0m                                 Traceback (most recent call last)",
            "\u001b[0;32m<ipython-input-23-5fbf3efe03a8>\u001b[0m in \u001b[0;36m<cell line: 4>\u001b[0;34m()\u001b[0m\n\u001b[1;32m      2\u001b[0m \u001b[0;34m\u001b[0m\u001b[0m\n\u001b[1;32m      3\u001b[0m \u001b[0mprint\u001b[0m\u001b[0;34m(\u001b[0m\u001b[0;34m\"Selamat datang...\"\u001b[0m\u001b[0;34m)\u001b[0m\u001b[0;34m\u001b[0m\u001b[0;34m\u001b[0m\u001b[0m\n\u001b[0;32m----> 4\u001b[0;31m \u001b[0mcetakNKali\u001b[0m\u001b[0;34m(\u001b[0m\u001b[0;34m\"Alpro itu mudah kalo rajin dan sabar\"\u001b[0m\u001b[0;34m)\u001b[0m\u001b[0;34m\u001b[0m\u001b[0;34m\u001b[0m\u001b[0m\n\u001b[0m\u001b[1;32m      5\u001b[0m \u001b[0mprint\u001b[0m\u001b[0;34m(\u001b[0m\u001b[0;34m\"program selesai\"\u001b[0m\u001b[0;34m)\u001b[0m\u001b[0;34m\u001b[0m\u001b[0;34m\u001b[0m\u001b[0m\n",
            "\u001b[0;31mTypeError\u001b[0m: cetakNKali() missing 1 required positional argument: 'kali'"
          ]
        }
      ],
      "source": [
        "# contoh ketika argumennya kurang\n",
        "\n",
        "print(\"Selamat datang...\")\n",
        "cetakNKali(\"Alpro itu mudah kalo rajin dan sabar\")\n",
        "print(\"program selesai\")"
      ]
    },
    {
      "cell_type": "code",
      "execution_count": 24,
      "metadata": {
        "id": "4DxViyx-VZNw"
      },
      "outputs": [],
      "source": [
        "# memberi nilai default pada parameter\n",
        "\n",
        "def cetakNKali(teks,kali=10):\n",
        "  for i in range(kali):\n",
        "    print(teks)\n",
        "  print('selesai :)')"
      ]
    },
    {
      "cell_type": "code",
      "execution_count": 25,
      "metadata": {
        "colab": {
          "base_uri": "https://localhost:8080/"
        },
        "id": "CP1GuQmWVj2U",
        "outputId": "e2d7c931-53d1-43d4-935b-5b5712ce162e"
      },
      "outputs": [
        {
          "name": "stdout",
          "output_type": "stream",
          "text": [
            "Selamat datang...\n",
            "Alpro itu mudah kalo rajin dan sabar\n",
            "Alpro itu mudah kalo rajin dan sabar\n",
            "Alpro itu mudah kalo rajin dan sabar\n",
            "Alpro itu mudah kalo rajin dan sabar\n",
            "Alpro itu mudah kalo rajin dan sabar\n",
            "Alpro itu mudah kalo rajin dan sabar\n",
            "Alpro itu mudah kalo rajin dan sabar\n",
            "Alpro itu mudah kalo rajin dan sabar\n",
            "Alpro itu mudah kalo rajin dan sabar\n",
            "Alpro itu mudah kalo rajin dan sabar\n",
            "selesai :)\n",
            "program selesai\n"
          ]
        }
      ],
      "source": [
        "print(\"Selamat datang...\")\n",
        "cetakNKali(\"Alpro itu mudah kalo rajin dan sabar\")\n",
        "print(\"program selesai\")"
      ]
    },
    {
      "cell_type": "markdown",
      "metadata": {
        "id": "eVSLJcV4WgrA"
      },
      "source": [
        "## Function LuasSegitiga"
      ]
    },
    {
      "cell_type": "code",
      "execution_count": 26,
      "metadata": {
        "id": "QdY_j0YmWnDo"
      },
      "outputs": [],
      "source": [
        "# function yang dapat mengembalikan suatu nilai\n",
        "\n",
        "def LuasSegitiga(a,t,col):\n",
        "  print(\"warnanya\",col)\n",
        "  print(\"alasnya\",a,\"cm\")\n",
        "  print(\"tingginya\",t,\"cm\")\n",
        "  luas = a * t / 2\n",
        "  return luas"
      ]
    },
    {
      "cell_type": "code",
      "execution_count": null,
      "metadata": {
        "id": "y0UNxYaI9K4h"
      },
      "outputs": [],
      "source": [
        "# variable lokal\n",
        "# variable global"
      ]
    },
    {
      "cell_type": "code",
      "execution_count": 27,
      "metadata": {
        "colab": {
          "base_uri": "https://localhost:8080/"
        },
        "id": "1kxeoLwdXUqq",
        "outputId": "9165b372-c8c4-49d0-98c4-ec06fcdb6a62"
      },
      "outputs": [
        {
          "name": "stdout",
          "output_type": "stream",
          "text": [
            "program dimulai\n",
            "warnanya biru\n",
            "alasnya 10 cm\n",
            "tingginya 5 cm\n",
            "Luas segitiga itu adalah 25.0 cm persegi\n",
            "program selesai\n"
          ]
        }
      ],
      "source": [
        "print(\"program dimulai\")\n",
        "L = LuasSegitiga(10,5,\"biru\")\n",
        "print(\"Luas segitiga itu adalah\",L,\"cm persegi\")\n",
        "print(\"program selesai\")"
      ]
    },
    {
      "cell_type": "code",
      "execution_count": 28,
      "metadata": {
        "colab": {
          "base_uri": "https://localhost:8080/"
        },
        "id": "r5jCH-fDb_MS",
        "outputId": "aec48408-f12a-4ed5-e40f-b47302d7fceb"
      },
      "outputs": [
        {
          "name": "stdout",
          "output_type": "stream",
          "text": [
            "program dimulai\n",
            "warnanya merah\n",
            "alasnya 8 cm\n",
            "tingginya 3 cm\n",
            "Luas segitiga itu adalah 12.0 cm persegi\n",
            "program selesai\n"
          ]
        }
      ],
      "source": [
        "print(\"program dimulai\")\n",
        "alas = 8\n",
        "tinggi = 3\n",
        "warna = \"merah\"\n",
        "L = LuasSegitiga(alas,tinggi,warna)\n",
        "print(\"Luas segitiga itu adalah\",L,\"cm persegi\")\n",
        "print(\"program selesai\")"
      ]
    },
    {
      "cell_type": "code",
      "execution_count": 29,
      "metadata": {
        "colab": {
          "base_uri": "https://localhost:8080/"
        },
        "id": "sij26oMKcv75",
        "outputId": "7165cc37-d146-472b-cb94-ab464beff5fc"
      },
      "outputs": [
        {
          "name": "stdout",
          "output_type": "stream",
          "text": [
            "program dimulai\n",
            "warnanya kuning\n",
            "alasnya 2 cm\n",
            "tingginya 7 cm\n",
            "Luas segitiga itu adalah 7.0 cm persegi\n",
            "program selesai\n"
          ]
        }
      ],
      "source": [
        "print(\"program dimulai\")\n",
        "alas = 2\n",
        "tinggi = 7\n",
        "warna = \"kuning\"\n",
        "L = LuasSegitiga(col=warna, t=tinggi, a=alas)\n",
        "print(\"Luas segitiga itu adalah\",L,\"cm persegi\")\n",
        "print(\"program selesai\")"
      ]
    },
    {
      "cell_type": "code",
      "execution_count": 30,
      "metadata": {
        "colab": {
          "base_uri": "https://localhost:8080/",
          "height": 272
        },
        "id": "B-I4GZjBdLHm",
        "outputId": "01e44762-7c38-4c98-ad64-ae2db47b7473"
      },
      "outputs": [
        {
          "name": "stdout",
          "output_type": "stream",
          "text": [
            "program dimulai\n"
          ]
        },
        {
          "ename": "TypeError",
          "evalue": "ignored",
          "output_type": "error",
          "traceback": [
            "\u001b[0;31m---------------------------------------------------------------------------\u001b[0m",
            "\u001b[0;31mTypeError\u001b[0m                                 Traceback (most recent call last)",
            "\u001b[0;32m<ipython-input-30-046f47263cfc>\u001b[0m in \u001b[0;36m<cell line: 7>\u001b[0;34m()\u001b[0m\n\u001b[1;32m      5\u001b[0m \u001b[0mtinggi\u001b[0m \u001b[0;34m=\u001b[0m \u001b[0;36m7\u001b[0m\u001b[0;34m\u001b[0m\u001b[0;34m\u001b[0m\u001b[0m\n\u001b[1;32m      6\u001b[0m \u001b[0mwarna\u001b[0m \u001b[0;34m=\u001b[0m \u001b[0;34m\"kuning\"\u001b[0m\u001b[0;34m\u001b[0m\u001b[0;34m\u001b[0m\u001b[0m\n\u001b[0;32m----> 7\u001b[0;31m \u001b[0mL\u001b[0m \u001b[0;34m=\u001b[0m \u001b[0mLuasSegitiga\u001b[0m\u001b[0;34m(\u001b[0m\u001b[0malas\u001b[0m\u001b[0;34m,\u001b[0m\u001b[0mtinggi\u001b[0m\u001b[0;34m)\u001b[0m\u001b[0;34m\u001b[0m\u001b[0;34m\u001b[0m\u001b[0m\n\u001b[0m\u001b[1;32m      8\u001b[0m \u001b[0mprint\u001b[0m\u001b[0;34m(\u001b[0m\u001b[0;34m\"Luas segitiga itu adalah\"\u001b[0m\u001b[0;34m,\u001b[0m\u001b[0mL\u001b[0m\u001b[0;34m,\u001b[0m\u001b[0;34m\"cm persegi\"\u001b[0m\u001b[0;34m)\u001b[0m\u001b[0;34m\u001b[0m\u001b[0;34m\u001b[0m\u001b[0m\n\u001b[1;32m      9\u001b[0m \u001b[0mprint\u001b[0m\u001b[0;34m(\u001b[0m\u001b[0;34m\"program selesai\"\u001b[0m\u001b[0;34m)\u001b[0m\u001b[0;34m\u001b[0m\u001b[0;34m\u001b[0m\u001b[0m\n",
            "\u001b[0;31mTypeError\u001b[0m: LuasSegitiga() missing 1 required positional argument: 'col'"
          ]
        }
      ],
      "source": [
        "# contoh ketika argumennya kurang\n",
        "\n",
        "print(\"program dimulai\")\n",
        "alas = 2\n",
        "tinggi = 7\n",
        "warna = \"kuning\"\n",
        "L = LuasSegitiga(alas,tinggi)\n",
        "print(\"Luas segitiga itu adalah\",L,\"cm persegi\")\n",
        "print(\"program selesai\")"
      ]
    },
    {
      "cell_type": "code",
      "execution_count": 31,
      "metadata": {
        "id": "d2Wadp9hdWHU"
      },
      "outputs": [],
      "source": [
        "def LuasSegitiga(a,t,col=\"suka-suka ente lah\"):\n",
        "  print(\"warnanya\",col)\n",
        "  print(\"alasnya\",a,\"cm\")\n",
        "  print(\"tingginya\",t,\"cm\")\n",
        "  luas = a * t / 2\n",
        "  return luas"
      ]
    },
    {
      "cell_type": "code",
      "execution_count": 32,
      "metadata": {
        "colab": {
          "base_uri": "https://localhost:8080/"
        },
        "id": "IcJtfCV_dOF1",
        "outputId": "951f351f-7576-4ed4-b54c-828b800b38b8"
      },
      "outputs": [
        {
          "name": "stdout",
          "output_type": "stream",
          "text": [
            "program dimulai\n",
            "warnanya suka-suka ente lah\n",
            "alasnya 2 cm\n",
            "tingginya 7 cm\n",
            "Luas segitiga itu adalah 7.0 cm persegi\n",
            "program selesai\n"
          ]
        }
      ],
      "source": [
        "print(\"program dimulai\")\n",
        "alas = 2\n",
        "tinggi = 7\n",
        "L = LuasSegitiga(alas,tinggi)\n",
        "print(\"Luas segitiga itu adalah\",L,\"cm persegi\")\n",
        "print(\"program selesai\")"
      ]
    },
    {
      "cell_type": "markdown",
      "metadata": {
        "id": "BxD6lirc-JQn"
      },
      "source": [
        "## Contoh Lainnya"
      ]
    },
    {
      "cell_type": "code",
      "execution_count": 33,
      "metadata": {
        "colab": {
          "base_uri": "https://localhost:8080/"
        },
        "id": "h4Tzm1ut-NOj",
        "outputId": "189432d4-cf69-45e3-ede3-e15184a21d4f"
      },
      "outputs": [
        {
          "name": "stdout",
          "output_type": "stream",
          "text": [
            "halo apa kabar\n",
            "1\n",
            "cobain ah\n"
          ]
        }
      ],
      "source": [
        "x = 1\n",
        "y = 'cobain ah'\n",
        "\n",
        "print('halo apa kabar')\n",
        "print(x)\n",
        "print(y)"
      ]
    },
    {
      "cell_type": "code",
      "execution_count": 34,
      "metadata": {
        "colab": {
          "base_uri": "https://localhost:8080/"
        },
        "id": "E0r7wNHE-UOm",
        "outputId": "ee7169db-be8d-49c8-8fef-6f5a7c057ebe"
      },
      "outputs": [
        {
          "name": "stdout",
          "output_type": "stream",
          "text": [
            "0\n",
            "3\n",
            "1\n"
          ]
        }
      ],
      "source": [
        "x = int(0.95)\n",
        "print(x)\n",
        "\n",
        "x = max(1,2,3)\n",
        "print(x)\n",
        "\n",
        "x = min(1,2,3)\n",
        "print(x)"
      ]
    }
  ],
  "metadata": {
    "colab": {
      "provenance": []
    },
    "kernelspec": {
      "display_name": "Python 3",
      "name": "python3"
    },
    "language_info": {
      "codemirror_mode": {
        "name": "ipython",
        "version": 3
      },
      "file_extension": ".py",
      "mimetype": "text/x-python",
      "name": "python",
      "nbconvert_exporter": "python",
      "pygments_lexer": "ipython3",
      "version": "3.11.6"
    }
  },
  "nbformat": 4,
  "nbformat_minor": 0
}
